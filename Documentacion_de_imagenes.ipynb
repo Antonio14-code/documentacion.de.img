{
  "nbformat": 4,
  "nbformat_minor": 0,
  "metadata": {
    "colab": {
      "provenance": [],
      "authorship_tag": "ABX9TyNLt5jWNrBSJ67o/UfwFVX1",
      "include_colab_link": true
    },
    "kernelspec": {
      "name": "python3",
      "display_name": "Python 3"
    },
    "language_info": {
      "name": "python"
    }
  },
  "cells": [
    {
      "cell_type": "markdown",
      "metadata": {
        "id": "view-in-github",
        "colab_type": "text"
      },
      "source": [
        "<a href=\"https://colab.research.google.com/github/Antonio14-code/documentacion.de.img/blob/main/Documentacion_de_imagenes.ipynb\" target=\"_parent\"><img src=\"https://colab.research.google.com/assets/colab-badge.svg\" alt=\"Open In Colab\"/></a>"
      ]
    },
    {
      "cell_type": "code",
      "execution_count": null,
      "metadata": {
        "id": "yM-WhrdltKZ0"
      },
      "outputs": [],
      "source": [
        "import zipfile, os, shutil\n",
        "import numpy as np\n",
        "import random\n",
        "from tensorflow.keras.preprocessing.image import ImageDataGenerator\n",
        "import tensorflow as tf\n",
        "from PIL import Image\n",
        "import matplotlib.pyplot as plt\n",
        "from google.colab import files\n",
        "\n",
        "# 1. Descomprimir ZIP\n",
        "zip_path = '/mnt/data/test.zip'\n",
        "extract_dir = '/content/test'\n",
        "\n",
        "with zipfile.ZipFile(zip_path, 'r') as zip_ref:\n",
        "    zip_ref.extractall('/content')\n",
        "\n",
        "# 2. Contar imágenes por clase\n",
        "base_dir = '/content/test'\n",
        "classes = os.listdir(base_dir)\n",
        "min_count = min([len(os.listdir(os.path.join(base_dir, cls))) for cls in classes])\n",
        "\n",
        "# 3. Crear carpeta balanceada\n",
        "balanced_dir = '/content/test_balanced'\n",
        "os.makedirs(balanced_dir, exist_ok=True)\n",
        "\n",
        "for cls in classes:\n",
        "    src_folder = os.path.join(base_dir, cls)\n",
        "    dst_folder = os.path.join(balanced_dir, cls)\n",
        "    os.makedirs(dst_folder, exist_ok=True)\n",
        "    images = os.listdir(src_folder)\n",
        "    random.shuffle(images)\n",
        "    selected = images[:min_count]\n",
        "    for img in selected:\n",
        "        shutil.copy(os.path.join(src_folder, img), os.path.join(dst_folder, img))\n"
      ]
    }
  ]
}